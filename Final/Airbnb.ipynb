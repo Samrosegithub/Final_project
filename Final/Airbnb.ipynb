{
 "cells": [
  {
   "cell_type": "code",
   "execution_count": 1,
   "metadata": {},
   "outputs": [
    {
     "data": {
      "text/html": [
       "<div>\n",
       "<style scoped>\n",
       "    .dataframe tbody tr th:only-of-type {\n",
       "        vertical-align: middle;\n",
       "    }\n",
       "\n",
       "    .dataframe tbody tr th {\n",
       "        vertical-align: top;\n",
       "    }\n",
       "\n",
       "    .dataframe thead th {\n",
       "        text-align: right;\n",
       "    }\n",
       "</style>\n",
       "<table border=\"1\" class=\"dataframe\">\n",
       "  <thead>\n",
       "    <tr style=\"text-align: right;\">\n",
       "      <th></th>\n",
       "      <th>id</th>\n",
       "      <th>listing_url</th>\n",
       "      <th>scrape_id</th>\n",
       "      <th>last_scraped</th>\n",
       "      <th>source</th>\n",
       "      <th>name</th>\n",
       "      <th>description</th>\n",
       "      <th>neighborhood_overview</th>\n",
       "      <th>picture_url</th>\n",
       "      <th>host_id</th>\n",
       "      <th>...</th>\n",
       "      <th>review_scores_communication</th>\n",
       "      <th>review_scores_location</th>\n",
       "      <th>review_scores_value</th>\n",
       "      <th>license</th>\n",
       "      <th>instant_bookable</th>\n",
       "      <th>calculated_host_listings_count</th>\n",
       "      <th>calculated_host_listings_count_entire_homes</th>\n",
       "      <th>calculated_host_listings_count_private_rooms</th>\n",
       "      <th>calculated_host_listings_count_shared_rooms</th>\n",
       "      <th>reviews_per_month</th>\n",
       "    </tr>\n",
       "  </thead>\n",
       "  <tbody>\n",
       "    <tr>\n",
       "      <th>0</th>\n",
       "      <td>2384</td>\n",
       "      <td>https://www.airbnb.com/rooms/2384</td>\n",
       "      <td>20230319041143</td>\n",
       "      <td>2023-03-19</td>\n",
       "      <td>city scrape</td>\n",
       "      <td>Hyde Park - Walk to UChicago</td>\n",
       "      <td>You are invited to be the sole Airbnb guest in...</td>\n",
       "      <td>The apartment is less than one block from beau...</td>\n",
       "      <td>https://a0.muscache.com/pictures/acf6b3c0-47f2...</td>\n",
       "      <td>2613</td>\n",
       "      <td>...</td>\n",
       "      <td>4.99</td>\n",
       "      <td>4.96</td>\n",
       "      <td>4.93</td>\n",
       "      <td>R17000015609</td>\n",
       "      <td>f</td>\n",
       "      <td>1</td>\n",
       "      <td>0</td>\n",
       "      <td>1</td>\n",
       "      <td>0</td>\n",
       "      <td>2.13</td>\n",
       "    </tr>\n",
       "    <tr>\n",
       "      <th>1</th>\n",
       "      <td>1772920</td>\n",
       "      <td>https://www.airbnb.com/rooms/1772920</td>\n",
       "      <td>20230319041143</td>\n",
       "      <td>2023-03-19</td>\n",
       "      <td>city scrape</td>\n",
       "      <td>3 Bedroom Across from Wrigley Field AllStar Suite</td>\n",
       "      <td>Welcome to The Inn at Wrigleyville, where you ...</td>\n",
       "      <td>Besides being steps from the \"Friendly Confine...</td>\n",
       "      <td>https://a0.muscache.com/pictures/28490752/b4cc...</td>\n",
       "      <td>9297431</td>\n",
       "      <td>...</td>\n",
       "      <td>4.75</td>\n",
       "      <td>4.92</td>\n",
       "      <td>4.58</td>\n",
       "      <td>2446868</td>\n",
       "      <td>t</td>\n",
       "      <td>6</td>\n",
       "      <td>6</td>\n",
       "      <td>0</td>\n",
       "      <td>0</td>\n",
       "      <td>0.11</td>\n",
       "    </tr>\n",
       "    <tr>\n",
       "      <th>2</th>\n",
       "      <td>1773021</td>\n",
       "      <td>https://www.airbnb.com/rooms/1773021</td>\n",
       "      <td>20230319041143</td>\n",
       "      <td>2023-03-19</td>\n",
       "      <td>city scrape</td>\n",
       "      <td>4 Bedroom Across from Wrigley Field Stadium Suite</td>\n",
       "      <td>Welcome to The Inn at Wrigleyville, where you ...</td>\n",
       "      <td>Besides being steps from the \"Friendly Confine...</td>\n",
       "      <td>https://a0.muscache.com/pictures/28491077/6edb...</td>\n",
       "      <td>9297431</td>\n",
       "      <td>...</td>\n",
       "      <td>4.88</td>\n",
       "      <td>5.00</td>\n",
       "      <td>4.85</td>\n",
       "      <td>2446868</td>\n",
       "      <td>t</td>\n",
       "      <td>6</td>\n",
       "      <td>6</td>\n",
       "      <td>0</td>\n",
       "      <td>0</td>\n",
       "      <td>1.11</td>\n",
       "    </tr>\n",
       "    <tr>\n",
       "      <th>3</th>\n",
       "      <td>1773025</td>\n",
       "      <td>https://www.airbnb.com/rooms/1773025</td>\n",
       "      <td>20230319041143</td>\n",
       "      <td>2023-03-19</td>\n",
       "      <td>city scrape</td>\n",
       "      <td>4 Bedroom Across from Wrigley Field Legend Suite</td>\n",
       "      <td>Welcome to The Inn at Wrigleyville, where you ...</td>\n",
       "      <td>Besides being steps from the \"Friendly Confine...</td>\n",
       "      <td>https://a0.muscache.com/pictures/28489088/cb9d...</td>\n",
       "      <td>9297431</td>\n",
       "      <td>...</td>\n",
       "      <td>4.90</td>\n",
       "      <td>5.00</td>\n",
       "      <td>4.76</td>\n",
       "      <td>2446867</td>\n",
       "      <td>t</td>\n",
       "      <td>6</td>\n",
       "      <td>6</td>\n",
       "      <td>0</td>\n",
       "      <td>0</td>\n",
       "      <td>0.90</td>\n",
       "    </tr>\n",
       "    <tr>\n",
       "      <th>4</th>\n",
       "      <td>1810118</td>\n",
       "      <td>https://www.airbnb.com/rooms/1810118</td>\n",
       "      <td>20230319041143</td>\n",
       "      <td>2023-03-19</td>\n",
       "      <td>city scrape</td>\n",
       "      <td>LARGE Private 1BR/Full Bath near U of Chicago</td>\n",
       "      <td>LARGE Bedroom (22'x12' / 24.5m²) w/ private-ac...</td>\n",
       "      <td>Wake up and stop by the Robust Coffee shop for...</td>\n",
       "      <td>https://a0.muscache.com/pictures/miso/Hosting-...</td>\n",
       "      <td>9483312</td>\n",
       "      <td>...</td>\n",
       "      <td>4.96</td>\n",
       "      <td>4.48</td>\n",
       "      <td>4.88</td>\n",
       "      <td>R17000015592</td>\n",
       "      <td>f</td>\n",
       "      <td>2</td>\n",
       "      <td>1</td>\n",
       "      <td>1</td>\n",
       "      <td>0</td>\n",
       "      <td>3.21</td>\n",
       "    </tr>\n",
       "  </tbody>\n",
       "</table>\n",
       "<p>5 rows × 75 columns</p>\n",
       "</div>"
      ],
      "text/plain": [
       "        id                           listing_url       scrape_id last_scraped  \\\n",
       "0     2384     https://www.airbnb.com/rooms/2384  20230319041143   2023-03-19   \n",
       "1  1772920  https://www.airbnb.com/rooms/1772920  20230319041143   2023-03-19   \n",
       "2  1773021  https://www.airbnb.com/rooms/1773021  20230319041143   2023-03-19   \n",
       "3  1773025  https://www.airbnb.com/rooms/1773025  20230319041143   2023-03-19   \n",
       "4  1810118  https://www.airbnb.com/rooms/1810118  20230319041143   2023-03-19   \n",
       "\n",
       "        source                                               name  \\\n",
       "0  city scrape                       Hyde Park - Walk to UChicago   \n",
       "1  city scrape  3 Bedroom Across from Wrigley Field AllStar Suite   \n",
       "2  city scrape  4 Bedroom Across from Wrigley Field Stadium Suite   \n",
       "3  city scrape   4 Bedroom Across from Wrigley Field Legend Suite   \n",
       "4  city scrape      LARGE Private 1BR/Full Bath near U of Chicago   \n",
       "\n",
       "                                         description  \\\n",
       "0  You are invited to be the sole Airbnb guest in...   \n",
       "1  Welcome to The Inn at Wrigleyville, where you ...   \n",
       "2  Welcome to The Inn at Wrigleyville, where you ...   \n",
       "3  Welcome to The Inn at Wrigleyville, where you ...   \n",
       "4  LARGE Bedroom (22'x12' / 24.5m²) w/ private-ac...   \n",
       "\n",
       "                               neighborhood_overview  \\\n",
       "0  The apartment is less than one block from beau...   \n",
       "1  Besides being steps from the \"Friendly Confine...   \n",
       "2  Besides being steps from the \"Friendly Confine...   \n",
       "3  Besides being steps from the \"Friendly Confine...   \n",
       "4  Wake up and stop by the Robust Coffee shop for...   \n",
       "\n",
       "                                         picture_url  host_id  ...  \\\n",
       "0  https://a0.muscache.com/pictures/acf6b3c0-47f2...     2613  ...   \n",
       "1  https://a0.muscache.com/pictures/28490752/b4cc...  9297431  ...   \n",
       "2  https://a0.muscache.com/pictures/28491077/6edb...  9297431  ...   \n",
       "3  https://a0.muscache.com/pictures/28489088/cb9d...  9297431  ...   \n",
       "4  https://a0.muscache.com/pictures/miso/Hosting-...  9483312  ...   \n",
       "\n",
       "  review_scores_communication review_scores_location review_scores_value  \\\n",
       "0                        4.99                   4.96                4.93   \n",
       "1                        4.75                   4.92                4.58   \n",
       "2                        4.88                   5.00                4.85   \n",
       "3                        4.90                   5.00                4.76   \n",
       "4                        4.96                   4.48                4.88   \n",
       "\n",
       "        license instant_bookable calculated_host_listings_count  \\\n",
       "0  R17000015609                f                              1   \n",
       "1       2446868                t                              6   \n",
       "2       2446868                t                              6   \n",
       "3       2446867                t                              6   \n",
       "4  R17000015592                f                              2   \n",
       "\n",
       "  calculated_host_listings_count_entire_homes  \\\n",
       "0                                           0   \n",
       "1                                           6   \n",
       "2                                           6   \n",
       "3                                           6   \n",
       "4                                           1   \n",
       "\n",
       "  calculated_host_listings_count_private_rooms  \\\n",
       "0                                            1   \n",
       "1                                            0   \n",
       "2                                            0   \n",
       "3                                            0   \n",
       "4                                            1   \n",
       "\n",
       "  calculated_host_listings_count_shared_rooms reviews_per_month  \n",
       "0                                           0              2.13  \n",
       "1                                           0              0.11  \n",
       "2                                           0              1.11  \n",
       "3                                           0              0.90  \n",
       "4                                           0              3.21  \n",
       "\n",
       "[5 rows x 75 columns]"
      ]
     },
     "execution_count": 1,
     "metadata": {},
     "output_type": "execute_result"
    }
   ],
   "source": [
    "import pandas as pd\n",
    "\n",
    "#read in CSV\n",
    "df = pd.read_csv('listings.csv')\n",
    "# print the first few rows\n",
    "df.head()"
   ]
  },
  {
   "cell_type": "code",
   "execution_count": 2,
   "metadata": {},
   "outputs": [
    {
     "data": {
      "text/plain": [
       "7747"
      ]
     },
     "execution_count": 2,
     "metadata": {},
     "output_type": "execute_result"
    }
   ],
   "source": [
    "#check length of dataframe\n",
    "\n",
    "len(df)\n"
   ]
  },
  {
   "cell_type": "code",
   "execution_count": 3,
   "metadata": {},
   "outputs": [
    {
     "data": {
      "text/plain": [
       "Chicago, Illinois, United States              5421\n",
       "Oak Park, Illinois, United States               10\n",
       "Chicago , Illinois, United States                4\n",
       "Chicago, United States                           2\n",
       "Norridge, Illinois, United States                2\n",
       "Harwood Heights, Illinois, United States         2\n",
       "Chicago Heights, Illinois, United States         1\n",
       "Bucktown, Chicago, Illinois, United States       1\n",
       "Oak Lawn, Illinois, United States                1\n",
       "Rogers Park, Il, United States                   1\n",
       "Santa Barbara, California, United States         1\n",
       "Chicago, Il, United States                       1\n",
       "芝加哥, Illinois, United States                     1\n",
       "Evergreen Park, Illinois, United States          1\n",
       "Name: neighbourhood, dtype: int64"
      ]
     },
     "execution_count": 3,
     "metadata": {},
     "output_type": "execute_result"
    }
   ],
   "source": [
    "# check to make sure all entries are in Chicago\n",
    "\n",
    "df[\"neighbourhood\"].value_counts()\n"
   ]
  },
  {
   "cell_type": "code",
   "execution_count": 4,
   "metadata": {},
   "outputs": [],
   "source": [
    "#drop rows of locations not within Chicago limits\n",
    "\n",
    "undesired_values = ['Oak Park, Illinois, United States',\n",
    "                    'Norridge, Illinois, United States',\n",
    "                    'Harwood Heights, Illinois, United States',\n",
    "                    'Chicago Heights, Illinois, United States',\n",
    "                    'Oak Lawn, Illinois, United States',\n",
    "                    'Santa Barbara, California, United States']\n",
    "\n",
    "df = df[~df['neighbourhood'].isin(undesired_values)]\n"
   ]
  },
  {
   "cell_type": "code",
   "execution_count": 5,
   "metadata": {},
   "outputs": [
    {
     "data": {
      "text/plain": [
       "Chicago, Illinois, United States              5421\n",
       "Chicago , Illinois, United States                4\n",
       "Chicago, United States                           2\n",
       "Bucktown, Chicago, Illinois, United States       1\n",
       "Rogers Park, Il, United States                   1\n",
       "Chicago, Il, United States                       1\n",
       "芝加哥, Illinois, United States                     1\n",
       "Evergreen Park, Illinois, United States          1\n",
       "Name: neighbourhood, dtype: int64"
      ]
     },
     "execution_count": 5,
     "metadata": {},
     "output_type": "execute_result"
    }
   ],
   "source": [
    "#recheck values\n",
    "df[\"neighbourhood\"].value_counts()"
   ]
  },
  {
   "cell_type": "code",
   "execution_count": 6,
   "metadata": {},
   "outputs": [],
   "source": [
    "#drop columns not needed for model\n",
    "\n",
    "df_dropped = df.drop(columns=[ \"id\", \"name\", \"host_id\", \"host_name\", \"number_of_reviews_ltm\",\n",
    "                              \"number_of_reviews_l30d\", \"maximum_nights\", \"host_total_listings_count\",\n",
    "                              \"minimum_minimum_nights\", \"maximum_minimum_nights\", \"host_listings_count\",\n",
    "                              \"room_type\", \"last_review\", \"first_review\", \"host_picture_url\",\n",
    "                              \"host_since\", \"listing_url\", \"scrape_id\", \"last_scraped\", \"source\",\n",
    "                              \"description\", \"neighborhood_overview\", \"picture_url\",\n",
    "                              \"host_url\", \"host_location\", \"host_about\", \"host_response_time\",\n",
    "                              \"host_response_rate\", \"host_acceptance_rate\", \"host_thumbnail_url\",\n",
    "                              \"host_verifications\", \"host_has_profile_pic\", \"host_identity_verified\",\n",
    "                              \"neighbourhood\", \"neighbourhood_cleansed\", \"neighbourhood_group_cleansed\",\n",
    "                              \"license\", \"instant_bookable\", \"calculated_host_listings_count\",\n",
    "                              \"calculated_host_listings_count_entire_homes\",\n",
    "                              \"calculated_host_listings_count_private_rooms\",\n",
    "                              \"calculated_host_listings_count_shared_rooms\", \"minimum_maximum_nights\",\n",
    "                              \"maximum_maximum_nights\", \"minimum_nights_avg_ntm\", \"maximum_nights_avg_ntm\",\n",
    "                              \"calendar_updated\", \"has_availability\", \"availability_30\", \"availability_60\",\n",
    "                              \"availability_90\", \"availability_365\", \"calendar_last_scraped\", \"bathrooms\",\n",
    "                            \"amenities\", \"host_neighbourhood\"])\n",
    "\n"
   ]
  },
  {
   "cell_type": "code",
   "execution_count": 7,
   "metadata": {},
   "outputs": [
    {
     "data": {
      "text/html": [
       "<div>\n",
       "<style scoped>\n",
       "    .dataframe tbody tr th:only-of-type {\n",
       "        vertical-align: middle;\n",
       "    }\n",
       "\n",
       "    .dataframe tbody tr th {\n",
       "        vertical-align: top;\n",
       "    }\n",
       "\n",
       "    .dataframe thead th {\n",
       "        text-align: right;\n",
       "    }\n",
       "</style>\n",
       "<table border=\"1\" class=\"dataframe\">\n",
       "  <thead>\n",
       "    <tr style=\"text-align: right;\">\n",
       "      <th></th>\n",
       "      <th>host_is_superhost</th>\n",
       "      <th>latitude</th>\n",
       "      <th>longitude</th>\n",
       "      <th>property_type</th>\n",
       "      <th>accommodates</th>\n",
       "      <th>bathrooms_text</th>\n",
       "      <th>bedrooms</th>\n",
       "      <th>beds</th>\n",
       "      <th>price</th>\n",
       "      <th>minimum_nights</th>\n",
       "      <th>number_of_reviews</th>\n",
       "      <th>review_scores_rating</th>\n",
       "      <th>review_scores_accuracy</th>\n",
       "      <th>review_scores_cleanliness</th>\n",
       "      <th>review_scores_checkin</th>\n",
       "      <th>review_scores_communication</th>\n",
       "      <th>review_scores_location</th>\n",
       "      <th>review_scores_value</th>\n",
       "      <th>reviews_per_month</th>\n",
       "    </tr>\n",
       "  </thead>\n",
       "  <tbody>\n",
       "    <tr>\n",
       "      <th>0</th>\n",
       "      <td>t</td>\n",
       "      <td>41.78790</td>\n",
       "      <td>-87.58780</td>\n",
       "      <td>Private room in condo</td>\n",
       "      <td>1</td>\n",
       "      <td>1 shared bath</td>\n",
       "      <td>1.0</td>\n",
       "      <td>1.0</td>\n",
       "      <td>$90.00</td>\n",
       "      <td>3</td>\n",
       "      <td>212</td>\n",
       "      <td>4.99</td>\n",
       "      <td>4.98</td>\n",
       "      <td>4.99</td>\n",
       "      <td>4.99</td>\n",
       "      <td>4.99</td>\n",
       "      <td>4.96</td>\n",
       "      <td>4.93</td>\n",
       "      <td>2.13</td>\n",
       "    </tr>\n",
       "    <tr>\n",
       "      <th>1</th>\n",
       "      <td>t</td>\n",
       "      <td>41.94842</td>\n",
       "      <td>-87.65307</td>\n",
       "      <td>Entire rental unit</td>\n",
       "      <td>7</td>\n",
       "      <td>2 baths</td>\n",
       "      <td>3.0</td>\n",
       "      <td>5.0</td>\n",
       "      <td>$379.00</td>\n",
       "      <td>1</td>\n",
       "      <td>13</td>\n",
       "      <td>4.67</td>\n",
       "      <td>4.67</td>\n",
       "      <td>4.75</td>\n",
       "      <td>4.42</td>\n",
       "      <td>4.75</td>\n",
       "      <td>4.92</td>\n",
       "      <td>4.58</td>\n",
       "      <td>0.11</td>\n",
       "    </tr>\n",
       "    <tr>\n",
       "      <th>2</th>\n",
       "      <td>t</td>\n",
       "      <td>41.94774</td>\n",
       "      <td>-87.65421</td>\n",
       "      <td>Entire rental unit</td>\n",
       "      <td>9</td>\n",
       "      <td>2 baths</td>\n",
       "      <td>4.0</td>\n",
       "      <td>5.0</td>\n",
       "      <td>$479.00</td>\n",
       "      <td>1</td>\n",
       "      <td>26</td>\n",
       "      <td>4.92</td>\n",
       "      <td>4.92</td>\n",
       "      <td>4.92</td>\n",
       "      <td>4.96</td>\n",
       "      <td>4.88</td>\n",
       "      <td>5.00</td>\n",
       "      <td>4.85</td>\n",
       "      <td>1.11</td>\n",
       "    </tr>\n",
       "    <tr>\n",
       "      <th>3</th>\n",
       "      <td>t</td>\n",
       "      <td>41.94750</td>\n",
       "      <td>-87.65420</td>\n",
       "      <td>Entire rental unit</td>\n",
       "      <td>9</td>\n",
       "      <td>2 baths</td>\n",
       "      <td>4.0</td>\n",
       "      <td>5.0</td>\n",
       "      <td>$479.00</td>\n",
       "      <td>1</td>\n",
       "      <td>21</td>\n",
       "      <td>4.86</td>\n",
       "      <td>5.00</td>\n",
       "      <td>4.81</td>\n",
       "      <td>4.95</td>\n",
       "      <td>4.90</td>\n",
       "      <td>5.00</td>\n",
       "      <td>4.76</td>\n",
       "      <td>0.90</td>\n",
       "    </tr>\n",
       "    <tr>\n",
       "      <th>4</th>\n",
       "      <td>t</td>\n",
       "      <td>41.77738</td>\n",
       "      <td>-87.60041</td>\n",
       "      <td>Private room in home</td>\n",
       "      <td>3</td>\n",
       "      <td>1 private bath</td>\n",
       "      <td>1.0</td>\n",
       "      <td>1.0</td>\n",
       "      <td>$79.00</td>\n",
       "      <td>4</td>\n",
       "      <td>355</td>\n",
       "      <td>4.89</td>\n",
       "      <td>4.93</td>\n",
       "      <td>4.93</td>\n",
       "      <td>4.96</td>\n",
       "      <td>4.96</td>\n",
       "      <td>4.48</td>\n",
       "      <td>4.88</td>\n",
       "      <td>3.21</td>\n",
       "    </tr>\n",
       "  </tbody>\n",
       "</table>\n",
       "</div>"
      ],
      "text/plain": [
       "  host_is_superhost  latitude  longitude          property_type  accommodates  \\\n",
       "0                 t  41.78790  -87.58780  Private room in condo             1   \n",
       "1                 t  41.94842  -87.65307     Entire rental unit             7   \n",
       "2                 t  41.94774  -87.65421     Entire rental unit             9   \n",
       "3                 t  41.94750  -87.65420     Entire rental unit             9   \n",
       "4                 t  41.77738  -87.60041   Private room in home             3   \n",
       "\n",
       "   bathrooms_text  bedrooms  beds    price  minimum_nights  number_of_reviews  \\\n",
       "0   1 shared bath       1.0   1.0   $90.00               3                212   \n",
       "1         2 baths       3.0   5.0  $379.00               1                 13   \n",
       "2         2 baths       4.0   5.0  $479.00               1                 26   \n",
       "3         2 baths       4.0   5.0  $479.00               1                 21   \n",
       "4  1 private bath       1.0   1.0   $79.00               4                355   \n",
       "\n",
       "   review_scores_rating  review_scores_accuracy  review_scores_cleanliness  \\\n",
       "0                  4.99                    4.98                       4.99   \n",
       "1                  4.67                    4.67                       4.75   \n",
       "2                  4.92                    4.92                       4.92   \n",
       "3                  4.86                    5.00                       4.81   \n",
       "4                  4.89                    4.93                       4.93   \n",
       "\n",
       "   review_scores_checkin  review_scores_communication  review_scores_location  \\\n",
       "0                   4.99                         4.99                    4.96   \n",
       "1                   4.42                         4.75                    4.92   \n",
       "2                   4.96                         4.88                    5.00   \n",
       "3                   4.95                         4.90                    5.00   \n",
       "4                   4.96                         4.96                    4.48   \n",
       "\n",
       "   review_scores_value  reviews_per_month  \n",
       "0                 4.93               2.13  \n",
       "1                 4.58               0.11  \n",
       "2                 4.85               1.11  \n",
       "3                 4.76               0.90  \n",
       "4                 4.88               3.21  "
      ]
     },
     "execution_count": 7,
     "metadata": {},
     "output_type": "execute_result"
    }
   ],
   "source": [
    "pd.set_option('display.max_columns', None)\n",
    "df_dropped.head()"
   ]
  },
  {
   "cell_type": "code",
   "execution_count": 8,
   "metadata": {},
   "outputs": [
    {
     "data": {
      "text/plain": [
       "host_is_superhost               object\n",
       "latitude                       float64\n",
       "longitude                      float64\n",
       "property_type                   object\n",
       "accommodates                     int64\n",
       "bathrooms_text                  object\n",
       "bedrooms                       float64\n",
       "beds                           float64\n",
       "price                           object\n",
       "minimum_nights                   int64\n",
       "number_of_reviews                int64\n",
       "review_scores_rating           float64\n",
       "review_scores_accuracy         float64\n",
       "review_scores_cleanliness      float64\n",
       "review_scores_checkin          float64\n",
       "review_scores_communication    float64\n",
       "review_scores_location         float64\n",
       "review_scores_value            float64\n",
       "reviews_per_month              float64\n",
       "dtype: object"
      ]
     },
     "execution_count": 8,
     "metadata": {},
     "output_type": "execute_result"
    }
   ],
   "source": [
    "#check for data types\n",
    "df_dropped.dtypes"
   ]
  },
  {
   "cell_type": "code",
   "execution_count": 9,
   "metadata": {},
   "outputs": [
    {
     "name": "stderr",
     "output_type": "stream",
     "text": [
      "C:\\Users\\genev\\anaconda3\\envs\\Pythondata\\lib\\site-packages\\ipykernel_launcher.py:3: FutureWarning: The default value of regex will change from True to False in a future version. In addition, single character regular expressions will *not* be treated as literal strings when regex=True.\n",
      "  This is separate from the ipykernel package so we can avoid doing imports until\n"
     ]
    }
   ],
   "source": [
    "#convert price column from object to int\n",
    "\n",
    "df_dropped[\"price\"] = df_dropped[\"price\"].str.replace(\"$\", \"\").str.replace(\",\", \"\").astype(float)\n"
   ]
  },
  {
   "cell_type": "code",
   "execution_count": 10,
   "metadata": {},
   "outputs": [
    {
     "data": {
      "text/plain": [
       "host_is_superhost               object\n",
       "latitude                       float64\n",
       "longitude                      float64\n",
       "property_type                   object\n",
       "accommodates                     int64\n",
       "bathrooms_text                  object\n",
       "bedrooms                       float64\n",
       "beds                           float64\n",
       "price                          float64\n",
       "minimum_nights                   int64\n",
       "number_of_reviews                int64\n",
       "review_scores_rating           float64\n",
       "review_scores_accuracy         float64\n",
       "review_scores_cleanliness      float64\n",
       "review_scores_checkin          float64\n",
       "review_scores_communication    float64\n",
       "review_scores_location         float64\n",
       "review_scores_value            float64\n",
       "reviews_per_month              float64\n",
       "dtype: object"
      ]
     },
     "execution_count": 10,
     "metadata": {},
     "output_type": "execute_result"
    }
   ],
   "source": [
    "# check that conversion worked\n",
    "df_dropped.dtypes"
   ]
  },
  {
   "cell_type": "code",
   "execution_count": 11,
   "metadata": {},
   "outputs": [
    {
     "data": {
      "text/plain": [
       "host_is_superhost                 1\n",
       "latitude                          0\n",
       "longitude                         0\n",
       "property_type                     0\n",
       "accommodates                      0\n",
       "bathrooms_text                   14\n",
       "bedrooms                        582\n",
       "beds                             66\n",
       "price                             0\n",
       "minimum_nights                    0\n",
       "number_of_reviews                 0\n",
       "review_scores_rating           1492\n",
       "review_scores_accuracy         1506\n",
       "review_scores_cleanliness      1506\n",
       "review_scores_checkin          1506\n",
       "review_scores_communication    1507\n",
       "review_scores_location         1506\n",
       "review_scores_value            1506\n",
       "reviews_per_month              1492\n",
       "dtype: int64"
      ]
     },
     "execution_count": 11,
     "metadata": {},
     "output_type": "execute_result"
    }
   ],
   "source": [
    "#check for NaN values\n",
    "\n",
    "na_counts = df_dropped.isna().sum()\n",
    "na_counts"
   ]
  },
  {
   "cell_type": "code",
   "execution_count": 12,
   "metadata": {},
   "outputs": [],
   "source": [
    "#drop all NaNs as the numbers most the NaN values are consistent across all review categories \n",
    "\n",
    "df_dropped.dropna(inplace=True)"
   ]
  },
  {
   "cell_type": "code",
   "execution_count": 13,
   "metadata": {},
   "outputs": [
    {
     "data": {
      "text/plain": [
       "5743"
      ]
     },
     "execution_count": 13,
     "metadata": {},
     "output_type": "execute_result"
    }
   ],
   "source": [
    "#check length of data frame\n",
    "\n",
    "length_of_df = len(df_dropped)\n",
    "\n",
    "length_of_df\n"
   ]
  },
  {
   "cell_type": "code",
   "execution_count": 14,
   "metadata": {},
   "outputs": [
    {
     "data": {
      "text/plain": [
       "array(['Private room in condo', 'Entire rental unit',\n",
       "       'Private room in home', 'Entire condo',\n",
       "       'Private room in townhouse', 'Private room in hostel',\n",
       "       'Shared room in hostel', 'Private room in rental unit',\n",
       "       'Entire home', 'Entire serviced apartment', 'Entire guest suite',\n",
       "       'Private room in guest suite', 'Shared room in rental unit',\n",
       "       'Entire loft', 'Private room in loft', 'Entire guesthouse',\n",
       "       'Room in boutique hotel', 'Entire townhouse', 'Room in aparthotel',\n",
       "       'Entire bungalow', 'Private room in bungalow',\n",
       "       'Room in serviced apartment', 'Private room in farm stay',\n",
       "       'Private room in bed and breakfast', 'Private room in cottage',\n",
       "       'Shared room in home', 'Room in hostel',\n",
       "       'Private room in tiny home', 'Private room in guesthouse',\n",
       "       'Private room', 'Shared room in condo', 'Tiny home',\n",
       "       'Entire villa', 'Room in hotel',\n",
       "       'Private room in serviced apartment',\n",
       "       'Private room in casa particular', 'Entire vacation home',\n",
       "       'Casa particular', 'Entire home/apt', 'Private room in minsu'],\n",
       "      dtype=object)"
      ]
     },
     "execution_count": 14,
     "metadata": {},
     "output_type": "execute_result"
    }
   ],
   "source": [
    "#look at variables in the property_type column\n",
    "\n",
    "unique_values = df_dropped['property_type'].unique()\n",
    "unique_values\n"
   ]
  },
  {
   "cell_type": "code",
   "execution_count": 15,
   "metadata": {},
   "outputs": [
    {
     "data": {
      "text/plain": [
       "Entire rental unit                    2700\n",
       "Entire condo                           738\n",
       "Private room in rental unit            500\n",
       "Entire home                            443\n",
       "Private room in home                   397\n",
       "Private room in condo                  148\n",
       "Entire guest suite                     148\n",
       "Entire townhouse                       101\n",
       "Entire serviced apartment               95\n",
       "Room in boutique hotel                  72\n",
       "Entire loft                             64\n",
       "Private room in townhouse               53\n",
       "Entire guesthouse                       37\n",
       "Shared room in home                     32\n",
       "Private room in loft                    28\n",
       "Private room in bed and breakfast       25\n",
       "Private room in bungalow                25\n",
       "Room in hotel                           24\n",
       "Shared room in rental unit              23\n",
       "Private room in guest suite             21\n",
       "Entire vacation home                    15\n",
       "Entire bungalow                          9\n",
       "Private room in guesthouse               8\n",
       "Room in hostel                           5\n",
       "Shared room in hostel                    3\n",
       "Private room                             3\n",
       "Private room in serviced apartment       3\n",
       "Private room in cottage                  3\n",
       "Tiny home                                3\n",
       "Private room in hostel                   3\n",
       "Room in aparthotel                       2\n",
       "Shared room in condo                     2\n",
       "Entire villa                             2\n",
       "Private room in farm stay                2\n",
       "Private room in tiny home                1\n",
       "Private room in casa particular          1\n",
       "Room in serviced apartment               1\n",
       "Casa particular                          1\n",
       "Entire home/apt                          1\n",
       "Private room in minsu                    1\n",
       "Name: property_type, dtype: int64"
      ]
     },
     "execution_count": 15,
     "metadata": {},
     "output_type": "execute_result"
    }
   ],
   "source": [
    "#get a count for each type\n",
    "\n",
    "df_dropped['property_type'].value_counts()\n"
   ]
  },
  {
   "cell_type": "code",
   "execution_count": 16,
   "metadata": {},
   "outputs": [],
   "source": [
    "# replace the values in \"property_type\" column to streamline\n",
    "\n",
    "df_dropped['property_type'] = df_dropped['property_type'].replace({\n",
    "    'Private room in home': 'Private room in rental unit',\n",
    "    'Private room in condo': 'Private room in rental unit',\n",
    "    'Private room in townhouse': 'Private room in rental unit',\n",
    "    'Private room in loft': 'Private room in rental unit',\n",
    "    'Private room in bed and breakfast': 'Private room in rental unit',\n",
    "    'Private room in bungalow': 'Private room in rental unit',\n",
    "    'Private room in guest suite': 'Private room in rental unit',\n",
    "    'Private room in guesthouse': 'Private room in rental unit',\n",
    "    'Private room in serviced apartment': 'Private room in rental unit',\n",
    "    'Private room in hostel': 'Private room in rental unit',\n",
    "    'Private room in cottage': 'Private room in rental unit',\n",
    "    'Private room in casa particular': 'Private room in rental unit',\n",
    "    'Private room in farm stay': 'Private room in rental unit',\n",
    "    'Private room in villa': 'Private room in rental unit',\n",
    "    'Private room in tiny home': 'Private room in rental unit',\n",
    "    'Private room in minsu': 'Private room in rental unit',\n",
    "    'Private room': 'Private room in rental unit',\n",
    "    'Entire home/apt': 'Entire home',\n",
    "    'Entire vacation home': 'Entire home',\n",
    "    'Entire villa': 'Entire home',\n",
    "    'Entire bungalow': 'Entire home',\n",
    "    'Casa particular': 'Entire home',\n",
    "    'Shared room in condo': 'Shared room in rental unit',\n",
    "    'Room in aparthotel': 'Room in hotel'\n",
    "})\n"
   ]
  },
  {
   "cell_type": "code",
   "execution_count": 17,
   "metadata": {},
   "outputs": [
    {
     "data": {
      "text/plain": [
       "Entire rental unit             2700\n",
       "Private room in rental unit    1222\n",
       "Entire condo                    738\n",
       "Entire home                     471\n",
       "Entire guest suite              148\n",
       "Entire townhouse                101\n",
       "Entire serviced apartment        95\n",
       "Room in boutique hotel           72\n",
       "Entire loft                      64\n",
       "Entire guesthouse                37\n",
       "Shared room in home              32\n",
       "Room in hotel                    26\n",
       "Shared room in rental unit       25\n",
       "Room in hostel                    5\n",
       "Shared room in hostel             3\n",
       "Tiny home                         3\n",
       "Room in serviced apartment        1\n",
       "Name: property_type, dtype: int64"
      ]
     },
     "execution_count": 17,
     "metadata": {},
     "output_type": "execute_result"
    }
   ],
   "source": [
    "#check to ensure all were combined properly\n",
    "\n",
    "df_dropped['property_type'].value_counts()\n"
   ]
  },
  {
   "cell_type": "code",
   "execution_count": 18,
   "metadata": {},
   "outputs": [
    {
     "data": {
      "text/plain": [
       "array(['1 shared bath', '2 baths', '1 private bath', '1 bath',\n",
       "       '1.5 shared baths', '11 shared baths', '1.5 baths', '2.5 baths',\n",
       "       '3 baths', '2 shared baths', '0 shared baths', '3.5 baths',\n",
       "       '2.5 shared baths', '3 shared baths', '4 baths',\n",
       "       'Shared half-bath', '4.5 baths', '0 baths', '5 baths',\n",
       "       'Private half-bath', '11.5 shared baths', '4 shared baths',\n",
       "       '6.5 baths', '7 baths', '5.5 baths', '6 baths', 'Half-bath',\n",
       "       '9.5 baths', '7.5 baths'], dtype=object)"
      ]
     },
     "execution_count": 18,
     "metadata": {},
     "output_type": "execute_result"
    }
   ],
   "source": [
    "#check bathroom types\n",
    "\n",
    "df_dropped['bathrooms_text'].unique()\n"
   ]
  },
  {
   "cell_type": "code",
   "execution_count": 19,
   "metadata": {},
   "outputs": [
    {
     "data": {
      "text/plain": [
       "1 bath               2802\n",
       "2 baths              1020\n",
       "1 shared bath         599\n",
       "1 private bath        325\n",
       "2 shared baths        178\n",
       "1.5 baths             176\n",
       "2.5 baths             156\n",
       "3 baths               136\n",
       "1.5 shared baths      105\n",
       "3.5 baths              82\n",
       "4 baths                47\n",
       "3 shared baths         27\n",
       "2.5 shared baths       22\n",
       "4.5 baths              14\n",
       "4 shared baths         14\n",
       "6 baths                 9\n",
       "5 baths                 7\n",
       "11 shared baths         4\n",
       "7 baths                 4\n",
       "5.5 baths               3\n",
       "0 shared baths          2\n",
       "6.5 baths               2\n",
       "7.5 baths               2\n",
       "0 baths                 2\n",
       "Private half-bath       1\n",
       "Shared half-bath        1\n",
       "Half-bath               1\n",
       "9.5 baths               1\n",
       "11.5 shared baths       1\n",
       "Name: bathrooms_text, dtype: int64"
      ]
     },
     "execution_count": 19,
     "metadata": {},
     "output_type": "execute_result"
    }
   ],
   "source": [
    "#get count of bathroom types\n",
    "\n",
    "df_dropped['bathrooms_text'].value_counts()\n"
   ]
  },
  {
   "cell_type": "code",
   "execution_count": null,
   "metadata": {},
   "outputs": [],
   "source": []
  }
 ],
 "metadata": {
  "kernelspec": {
   "display_name": "Python 3 (ipykernel)",
   "language": "python",
   "name": "python3"
  },
  "language_info": {
   "codemirror_mode": {
    "name": "ipython",
    "version": 3
   },
   "file_extension": ".py",
   "mimetype": "text/x-python",
   "name": "python",
   "nbconvert_exporter": "python",
   "pygments_lexer": "ipython3",
   "version": "3.7.16"
  },
  "vscode": {
   "interpreter": {
    "hash": "38cca0c38332a56087b24af0bc80247f4fced29cb4f7f437d91dc159adec9c4e"
   }
  }
 },
 "nbformat": 4,
 "nbformat_minor": 2
}
